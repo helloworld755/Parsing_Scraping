{
 "cells": [
  {
   "cell_type": "markdown",
   "id": "d2f30cc7",
   "metadata": {},
   "source": [
    "Создать базу данных sqlite, загрузить туда данные из парсера с предыдущего урока. Выполнить команду для демонстрации содержимого коллекции."
   ]
  },
  {
   "cell_type": "code",
   "execution_count": 60,
   "id": "c6b4a7b1",
   "metadata": {},
   "outputs": [],
   "source": [
    "import sqlite3"
   ]
  },
  {
   "cell_type": "code",
   "execution_count": 61,
   "id": "d8771f30",
   "metadata": {},
   "outputs": [],
   "source": [
    "connection = sqlite3.connect('quotes.db')"
   ]
  },
  {
   "cell_type": "code",
   "execution_count": 62,
   "id": "e3e51f24",
   "metadata": {},
   "outputs": [],
   "source": [
    "cursor = connection.cursor()"
   ]
  },
  {
   "cell_type": "code",
   "execution_count": 63,
   "id": "24839b3a",
   "metadata": {},
   "outputs": [],
   "source": [
    "create_query = '''\n",
    "    CREATE TABLE IF NOT EXISTS quotes(\n",
    "        text TEXT NULL,\n",
    "        author TEXT NULL,\n",
    "        tags TEXT NULL\n",
    "    );\n",
    "'''"
   ]
  },
  {
   "cell_type": "code",
   "execution_count": 64,
   "id": "7fc5f7d8",
   "metadata": {},
   "outputs": [],
   "source": [
    "cursor.execute(create_query)\n",
    "connection.commit()"
   ]
  },
  {
   "cell_type": "code",
   "execution_count": 70,
   "id": "76f2a013",
   "metadata": {},
   "outputs": [],
   "source": [
    "insert_query = '''\n",
    "    INSERT INTO quotes(\n",
    "        text,\n",
    "        author,\n",
    "        tags\n",
    "    )\n",
    "    VALUES(\n",
    "        ?,\n",
    "        ?,\n",
    "        ?\n",
    "    )\n",
    "'''"
   ]
  },
  {
   "cell_type": "code",
   "execution_count": 71,
   "id": "8552b6eb",
   "metadata": {},
   "outputs": [],
   "source": [
    "with open('quotes.json', 'r') as jf:\n",
    "    data = json.load(jf)"
   ]
  },
  {
   "cell_type": "code",
   "execution_count": 72,
   "id": "7d498c7a",
   "metadata": {},
   "outputs": [],
   "source": [
    "tuples_quotes = []\n",
    "for quote in data:\n",
    "    quote_tuple = list(quote.values())\n",
    "    quote_tuple[2] = ', '.join(quote_tuple[2])\n",
    "    quote_tuple = tuple(quote_tuple)\n",
    "    tuples_quotes.append(quote_tuple)"
   ]
  },
  {
   "cell_type": "code",
   "execution_count": 73,
   "id": "de6271c4",
   "metadata": {},
   "outputs": [
    {
     "data": {
      "text/plain": [
       "[('“The world as we have created it is a process of our thinking. It cannot be changed without changing our thinking.”',\n",
       "  'Albert Einstein',\n",
       "  'change, deep-thoughts, thinking, world'),\n",
       " ('“It is our choices, Harry, that show what we truly are, far more than our abilities.”',\n",
       "  'J.K. Rowling',\n",
       "  'abilities, choices'),\n",
       " ('“There are only two ways to live your life. One is as though nothing is a miracle. The other is as though everything is a miracle.”',\n",
       "  'Albert Einstein',\n",
       "  'inspirational, life, live, miracle, miracles'),\n",
       " ('“The person, be it gentleman or lady, who has not pleasure in a good novel, must be intolerably stupid.”',\n",
       "  'Jane Austen',\n",
       "  'aliteracy, books, classic, humor'),\n",
       " (\"“Imperfection is beauty, madness is genius and it's better to be absolutely ridiculous than absolutely boring.”\",\n",
       "  'Marilyn Monroe',\n",
       "  'be-yourself, inspirational'),\n",
       " ('“Try not to become a man of success. Rather become a man of value.”',\n",
       "  'Albert Einstein',\n",
       "  'adulthood, success, value'),\n",
       " ('“It is better to be hated for what you are than to be loved for what you are not.”',\n",
       "  'André Gide',\n",
       "  'life, love'),\n",
       " (\"“I have not failed. I've just found 10,000 ways that won't work.”\",\n",
       "  'Thomas A. Edison',\n",
       "  'edison, failure, inspirational, paraphrased'),\n",
       " (\"“A woman is like a tea bag; you never know how strong it is until it's in hot water.”\",\n",
       "  'Eleanor Roosevelt',\n",
       "  'misattributed-eleanor-roosevelt'),\n",
       " ('“A day without sunshine is like, you know, night.”',\n",
       "  'Steve Martin',\n",
       "  'humor, obvious, simile')]"
      ]
     },
     "execution_count": 73,
     "metadata": {},
     "output_type": "execute_result"
    }
   ],
   "source": [
    "tuples_quotes"
   ]
  },
  {
   "cell_type": "code",
   "execution_count": 74,
   "id": "c79b7f43",
   "metadata": {},
   "outputs": [],
   "source": [
    "cursor.executemany(insert_query, tuples_quotes)\n",
    "connection.commit()"
   ]
  },
  {
   "cell_type": "code",
   "execution_count": 75,
   "id": "750f4d17",
   "metadata": {},
   "outputs": [],
   "source": [
    "show_table = '''\n",
    "    SELECT * FROM quotes\n",
    "'''"
   ]
  },
  {
   "cell_type": "code",
   "execution_count": 76,
   "id": "6d1a4887",
   "metadata": {},
   "outputs": [
    {
     "name": "stdout",
     "output_type": "stream",
     "text": [
      "('“The world as we have created it is a process of our thinking. It cannot be changed without changing our thinking.”', 'Albert Einstein', 'change, deep-thoughts, thinking, world')\n",
      "('“It is our choices, Harry, that show what we truly are, far more than our abilities.”', 'J.K. Rowling', 'abilities, choices')\n",
      "('“There are only two ways to live your life. One is as though nothing is a miracle. The other is as though everything is a miracle.”', 'Albert Einstein', 'inspirational, life, live, miracle, miracles')\n",
      "('“The person, be it gentleman or lady, who has not pleasure in a good novel, must be intolerably stupid.”', 'Jane Austen', 'aliteracy, books, classic, humor')\n",
      "(\"“Imperfection is beauty, madness is genius and it's better to be absolutely ridiculous than absolutely boring.”\", 'Marilyn Monroe', 'be-yourself, inspirational')\n",
      "('“Try not to become a man of success. Rather become a man of value.”', 'Albert Einstein', 'adulthood, success, value')\n",
      "('“It is better to be hated for what you are than to be loved for what you are not.”', 'André Gide', 'life, love')\n",
      "(\"“I have not failed. I've just found 10,000 ways that won't work.”\", 'Thomas A. Edison', 'edison, failure, inspirational, paraphrased')\n",
      "(\"“A woman is like a tea bag; you never know how strong it is until it's in hot water.”\", 'Eleanor Roosevelt', 'misattributed-eleanor-roosevelt')\n",
      "('“A day without sunshine is like, you know, night.”', 'Steve Martin', 'humor, obvious, simile')\n",
      "('“The world as we have created it is a process of our thinking. It cannot be changed without changing our thinking.”', 'Albert Einstein', 'change, deep-thoughts, thinking, world')\n",
      "('“It is our choices, Harry, that show what we truly are, far more than our abilities.”', 'J.K. Rowling', 'abilities, choices')\n",
      "('“There are only two ways to live your life. One is as though nothing is a miracle. The other is as though everything is a miracle.”', 'Albert Einstein', 'inspirational, life, live, miracle, miracles')\n",
      "('“The person, be it gentleman or lady, who has not pleasure in a good novel, must be intolerably stupid.”', 'Jane Austen', 'aliteracy, books, classic, humor')\n",
      "(\"“Imperfection is beauty, madness is genius and it's better to be absolutely ridiculous than absolutely boring.”\", 'Marilyn Monroe', 'be-yourself, inspirational')\n",
      "('“Try not to become a man of success. Rather become a man of value.”', 'Albert Einstein', 'adulthood, success, value')\n",
      "('“It is better to be hated for what you are than to be loved for what you are not.”', 'André Gide', 'life, love')\n",
      "(\"“I have not failed. I've just found 10,000 ways that won't work.”\", 'Thomas A. Edison', 'edison, failure, inspirational, paraphrased')\n",
      "(\"“A woman is like a tea bag; you never know how strong it is until it's in hot water.”\", 'Eleanor Roosevelt', 'misattributed-eleanor-roosevelt')\n",
      "('“A day without sunshine is like, you know, night.”', 'Steve Martin', 'humor, obvious, simile')\n"
     ]
    }
   ],
   "source": [
    "cursor.execute(show_table)\n",
    "rows = cursor.fetchall()\n",
    "for row in rows:\n",
    "    print(row)"
   ]
  },
  {
   "cell_type": "code",
   "execution_count": null,
   "id": "a67ee8bb",
   "metadata": {},
   "outputs": [],
   "source": []
  }
 ],
 "metadata": {
  "kernelspec": {
   "display_name": "Python 3 (ipykernel)",
   "language": "python",
   "name": "python3"
  },
  "language_info": {
   "codemirror_mode": {
    "name": "ipython",
    "version": 3
   },
   "file_extension": ".py",
   "mimetype": "text/x-python",
   "name": "python",
   "nbconvert_exporter": "python",
   "pygments_lexer": "ipython3",
   "version": "3.9.7"
  }
 },
 "nbformat": 4,
 "nbformat_minor": 5
}
