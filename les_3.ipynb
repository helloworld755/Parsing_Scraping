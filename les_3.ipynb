{
 "cells": [
  {
   "cell_type": "markdown",
   "id": "0fd4c7e5",
   "metadata": {},
   "source": [
    "Спарсить цитаты с сайта Quotes to Scrape - https://quotes.toscrape.com.\n",
    "Необходимо извлечь: цитаты, авторов и список тегов.\n",
    "\n",
    "Задание со звёздочкой: спарсить все цитаты на сайте, а не только с первой страницы.\n",
    "\n",
    "При парсинге желательно использовать разные методы для получения необходимой информации.\n",
    "\n",
    "Файл с парсером должен быть или с расширением .py, или с расширением .ipynb\n",
    "\n",
    "Итоговые данные можно положить в список, pandas DataFrame, можно вывести на экран, можно сохранить в .json, .csv и т.д. - на Ваше усмотрение."
   ]
  },
  {
   "cell_type": "code",
   "execution_count": 1,
   "id": "f2d5a832",
   "metadata": {},
   "outputs": [],
   "source": [
    "import requests\n",
    "from bs4 import BeautifulSoup as bs"
   ]
  },
  {
   "cell_type": "code",
   "execution_count": 3,
   "id": "40cdeb8a",
   "metadata": {},
   "outputs": [],
   "source": [
    "url = 'https://quotes.toscrape.com'\n",
    "r = requests.get(url)"
   ]
  },
  {
   "cell_type": "code",
   "execution_count": 4,
   "id": "2eab67bf",
   "metadata": {},
   "outputs": [],
   "source": [
    "html = bs(r.content, 'html.parser')"
   ]
  },
  {
   "cell_type": "code",
   "execution_count": 16,
   "id": "ecd72eb8",
   "metadata": {},
   "outputs": [
    {
     "data": {
      "text/plain": [
       "10"
      ]
     },
     "execution_count": 16,
     "metadata": {},
     "output_type": "execute_result"
    }
   ],
   "source": [
    "quotes = html.select('div[class=quote]')\n",
    "len(quotes)"
   ]
  },
  {
   "cell_type": "code",
   "execution_count": 17,
   "id": "a7ff9bf6",
   "metadata": {},
   "outputs": [],
   "source": [
    "all_quotes = html.find_all('div', class_='quote')\n",
    "all_quotes2 = html.find_all('div', attrs={'class': 'quote'})"
   ]
  },
  {
   "cell_type": "code",
   "execution_count": 18,
   "id": "a9c2e734",
   "metadata": {},
   "outputs": [
    {
     "name": "stdout",
     "output_type": "stream",
     "text": [
      "10 10\n"
     ]
    }
   ],
   "source": [
    "print(len(all_quotes), len(all_quotes2))"
   ]
  },
  {
   "cell_type": "code",
   "execution_count": 29,
   "id": "6eab9783",
   "metadata": {},
   "outputs": [
    {
     "name": "stdout",
     "output_type": "stream",
     "text": [
      "['change', 'deep-thoughts', 'thinking', 'world']\n",
      "['abilities', 'choices']\n",
      "['inspirational', 'life', 'live', 'miracle', 'miracles']\n",
      "['aliteracy', 'books', 'classic', 'humor']\n",
      "['be-yourself', 'inspirational']\n",
      "['adulthood', 'success', 'value']\n",
      "['life', 'love']\n",
      "['edison', 'failure', 'inspirational', 'paraphrased']\n",
      "['misattributed-eleanor-roosevelt']\n",
      "['humor', 'obvious', 'simile']\n"
     ]
    }
   ],
   "source": [
    "for quote in quotes:\n",
    "    text = quote.select_one('span[class=text]').text\n",
    "    author = quote.select_one('span small[class=author]').text\n",
    "    tags = quote.find(\"div\", {\"class\": \"tags\"}).find_all(\"a\", {\"class\": \"tag\"})\n",
    "    print([tag.text for tag in tags])"
   ]
  },
  {
   "cell_type": "code",
   "execution_count": 34,
   "id": "acd4f228",
   "metadata": {},
   "outputs": [
    {
     "name": "stdout",
     "output_type": "stream",
     "text": [
      "[{'text': '“The world as we have created it is a process of our thinking. It cannot be changed without changing our thinking.”', 'author': 'Albert Einstein', 'tags': ['change', 'deep-thoughts', 'thinking', 'world']}, {'text': '“It is our choices, Harry, that show what we truly are, far more than our abilities.”', 'author': 'J.K. Rowling', 'tags': ['abilities', 'choices']}, {'text': '“There are only two ways to live your life. One is as though nothing is a miracle. The other is as though everything is a miracle.”', 'author': 'Albert Einstein', 'tags': ['inspirational', 'life', 'live', 'miracle', 'miracles']}, {'text': '“The person, be it gentleman or lady, who has not pleasure in a good novel, must be intolerably stupid.”', 'author': 'Jane Austen', 'tags': ['aliteracy', 'books', 'classic', 'humor']}, {'text': \"“Imperfection is beauty, madness is genius and it's better to be absolutely ridiculous than absolutely boring.”\", 'author': 'Marilyn Monroe', 'tags': ['be-yourself', 'inspirational']}, {'text': '“Try not to become a man of success. Rather become a man of value.”', 'author': 'Albert Einstein', 'tags': ['adulthood', 'success', 'value']}, {'text': '“It is better to be hated for what you are than to be loved for what you are not.”', 'author': 'André Gide', 'tags': ['life', 'love']}, {'text': \"“I have not failed. I've just found 10,000 ways that won't work.”\", 'author': 'Thomas A. Edison', 'tags': ['edison', 'failure', 'inspirational', 'paraphrased']}, {'text': \"“A woman is like a tea bag; you never know how strong it is until it's in hot water.”\", 'author': 'Eleanor Roosevelt', 'tags': ['misattributed-eleanor-roosevelt']}, {'text': '“A day without sunshine is like, you know, night.”', 'author': 'Steve Martin', 'tags': ['humor', 'obvious', 'simile']}]\n"
     ]
    }
   ],
   "source": [
    "final_quotes = []\n",
    "for quote in quotes:\n",
    "    text = quote.select_one('span[class=text]').text\n",
    "    author = quote.select_one('span small[class=author]').text\n",
    "    tags = quote.find(\"div\", {\"class\": \"tags\"}).find_all(\"a\", {\"class\": \"tag\"})\n",
    "    quote_dict = {\n",
    "        'text': text,\n",
    "        'author': author,\n",
    "        'tags': [tag.text for tag in tags]\n",
    "    }\n",
    "    final_quotes.append(quote_dict)\n",
    "    \n",
    "print(final_quotes)"
   ]
  },
  {
   "cell_type": "code",
   "execution_count": 35,
   "id": "44e1d789",
   "metadata": {},
   "outputs": [],
   "source": [
    "import json\n",
    "with open('quotes.json', 'w') as jf:\n",
    "    json.dump(final_quotes, jf)"
   ]
  },
  {
   "cell_type": "code",
   "execution_count": null,
   "id": "e1e36ee1",
   "metadata": {},
   "outputs": [],
   "source": []
  }
 ],
 "metadata": {
  "kernelspec": {
   "display_name": "Python 3 (ipykernel)",
   "language": "python",
   "name": "python3"
  },
  "language_info": {
   "codemirror_mode": {
    "name": "ipython",
    "version": 3
   },
   "file_extension": ".py",
   "mimetype": "text/x-python",
   "name": "python",
   "nbconvert_exporter": "python",
   "pygments_lexer": "ipython3",
   "version": "3.9.7"
  }
 },
 "nbformat": 4,
 "nbformat_minor": 5
}
